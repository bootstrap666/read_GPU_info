{
  "nbformat": 4,
  "nbformat_minor": 0,
  "metadata": {
    "colab": {
      "name": "read GPU data.ipynb",
      "provenance": [],
      "authorship_tag": "ABX9TyOnFROHsMV8TUxIkWvAMefT",
      "include_colab_link": true
    },
    "kernelspec": {
      "name": "python3",
      "display_name": "Python 3"
    },
    "language_info": {
      "name": "python"
    },
    "accelerator": "GPU"
  },
  "cells": [
    {
      "cell_type": "markdown",
      "metadata": {
        "id": "view-in-github",
        "colab_type": "text"
      },
      "source": [
        "<a href=\"https://colab.research.google.com/github/bootstrap666/read_GPU_info/blob/main/read_GPU_data.ipynb\" target=\"_parent\"><img src=\"https://colab.research.google.com/assets/colab-badge.svg\" alt=\"Open In Colab\"/></a>"
      ]
    },
    {
      "cell_type": "code",
      "metadata": {
        "colab": {
          "base_uri": "https://localhost:8080/"
        },
        "id": "TW9gRgElSafJ",
        "outputId": "321d49bd-563b-4100-bce5-70e9af26e421"
      },
      "source": [
        "!pip install GPUtil"
      ],
      "execution_count": 3,
      "outputs": [
        {
          "output_type": "stream",
          "name": "stdout",
          "text": [
            "Collecting GPUtil\n",
            "  Downloading GPUtil-1.4.0.tar.gz (5.5 kB)\n",
            "Building wheels for collected packages: GPUtil\n",
            "  Building wheel for GPUtil (setup.py) ... \u001b[?25l\u001b[?25hdone\n",
            "  Created wheel for GPUtil: filename=GPUtil-1.4.0-py3-none-any.whl size=7411 sha256=295465136bc75bfbe8eef67dd78c72ca52a1f9765bbe220f4528a855abf4ce41\n",
            "  Stored in directory: /root/.cache/pip/wheels/6e/f8/83/534c52482d6da64622ddbf72cd93c35d2ef2881b78fd08ff0c\n",
            "Successfully built GPUtil\n",
            "Installing collected packages: GPUtil\n",
            "Successfully installed GPUtil-1.4.0\n"
          ]
        }
      ]
    },
    {
      "cell_type": "code",
      "metadata": {
        "id": "yMkctz1pP4rY"
      },
      "source": [
        "import GPUtil\n",
        "from collections import namedtuple"
      ],
      "execution_count": 27,
      "outputs": []
    },
    {
      "cell_type": "code",
      "metadata": {
        "id": "OsIUyodsW7Ic"
      },
      "source": [
        "def gpu_info():\n",
        "    \"\"\"Return a list of namedtuples representing attributes of each GPU\n",
        "    device.\n",
        "    \"\"\"\n",
        "\n",
        "    GPUInfo = namedtuple('GPUInfo', ['name', 'driver', 'totalmem', 'freemem'])\n",
        "    gpus = GPUtil.getGPUs()\n",
        "    info = []\n",
        "    for g in gpus:\n",
        "        info.append(GPUInfo(g.name, g.driver, g.memoryTotal, g.memoryFree))\n",
        "    return info "
      ],
      "execution_count": 28,
      "outputs": []
    },
    {
      "cell_type": "code",
      "metadata": {
        "colab": {
          "base_uri": "https://localhost:8080/"
        },
        "id": "SUwbwTfRY9A5",
        "outputId": "00a4cc03-ba75-4d90-b966-12a08d3b54ca"
      },
      "source": [
        "gpu_info()"
      ],
      "execution_count": 29,
      "outputs": [
        {
          "output_type": "execute_result",
          "data": {
            "text/plain": [
              "[GPUInfo(name='Tesla K80', driver='460.32.03', totalmem=11441.0, freemem=11318.0)]"
            ]
          },
          "metadata": {},
          "execution_count": 29
        }
      ]
    }
  ]
}